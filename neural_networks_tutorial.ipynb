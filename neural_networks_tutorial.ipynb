{
  "nbformat": 4,
  "nbformat_minor": 0,
  "metadata": {
    "kernelspec": {
      "display_name": "Python 3",
      "language": "python",
      "name": "python3"
    },
    "language_info": {
      "codemirror_mode": {
        "name": "ipython",
        "version": 3
      },
      "file_extension": ".py",
      "mimetype": "text/x-python",
      "name": "python",
      "nbconvert_exporter": "python",
      "pygments_lexer": "ipython3",
      "version": "3.6.8"
    },
    "colab": {
      "name": "neural_networks_tutorial.ipynb",
      "provenance": [],
      "collapsed_sections": [],
      "include_colab_link": true
    }
  },
  "cells": [
    {
      "cell_type": "markdown",
      "metadata": {
        "id": "view-in-github",
        "colab_type": "text"
      },
      "source": [
        "<a href=\"https://colab.research.google.com/github/ji-in/PyTorch/blob/main/neural_networks_tutorial.ipynb\" target=\"_parent\"><img src=\"https://colab.research.google.com/assets/colab-badge.svg\" alt=\"Open In Colab\"/></a>"
      ]
    },
    {
      "cell_type": "code",
      "metadata": {
        "id": "DtAczrBnd0aK"
      },
      "source": [
        "%matplotlib inline"
      ],
      "execution_count": null,
      "outputs": []
    },
    {
      "cell_type": "markdown",
      "metadata": {
        "id": "xpVpyiKWd0aQ"
      },
      "source": [
        "\n",
        "Neural Networks\n",
        "===============\n",
        "\n",
        "\n",
        "신경망은 `torch.nn` 패키지를 사용해서 만든다.  \n",
        "\n",
        "`nn`은 모델들을 정의하고 미분하기 위해 `autograd`에 의존한다.  \n",
        "`nn.Module`은 레이어와 `output`을 반환하는 `forward(input)`함수를 가진다.  \n",
        "\n",
        "예를들어, 숫자 이미지를 분류하는 네트워크를 보자.  \n",
        "\n",
        "<!--.. figure:: /_static/img/mnist.png\n",
        "   :alt: convnet\n",
        "\n",
        "   convnet-->\n",
        "\n",
        "이것은 간단한 feed-forward 네트워크이다. 입력을 받아 여러 레이어를 차례로 통과시키고, 마지막으로 출력을 한다.\n",
        "\n",
        "신경망을 위한 일반적인 훈련 절차는 다음을 따른다:  \n",
        "\n",
        "- 학습 가능한 파라미터(또는 가중치)를 가지는 신경망을 정의한다.  \n",
        "- 입력 데이터셋에 대해 반복한다.  \n",
        "- 입력을 네트워크에 통과시킨다.  \n",
        "- loss를 계산한다. (출력이 정답과 얼마나 차이가 나는지 계산한다.)  \n",
        "- 네트워크의 파라미터에 기울기를 역전파한다.  \n",
        "- 다음의 규칙을 사용해서 네트워크의 가중치를 갱신한다: ``weight = weight - learning_rate * gradient``  \n",
        "\n",
        "Define the network\n",
        "------------------\n",
        "\n",
        "네트워크를 정의해보자.\n"
      ]
    },
    {
      "cell_type": "code",
      "metadata": {
        "id": "BGUMG6Bcd0aR",
        "colab": {
          "base_uri": "https://localhost:8080/"
        },
        "outputId": "33be152f-2f49-4a90-b545-6e6bd0014191"
      },
      "source": [
        "import torch\n",
        "import torch.nn as nn\n",
        "import torch.nn.functional as F\n",
        "\n",
        "\n",
        "class Net(nn.Module):\n",
        "\n",
        "    def __init__(self):\n",
        "        super(Net, self).__init__()\n",
        "        # 1 input image channel, 6 output channels, 3x3 square convolution\n",
        "        # kernel\n",
        "        self.conv1 = nn.Conv2d(1, 6, 3)\n",
        "        self.conv2 = nn.Conv2d(6, 16, 3)\n",
        "        # an affine operation: y = Wx + b\n",
        "        self.fc1 = nn.Linear(16 * 6 * 6, 120)  # 6*6 from image dimension \n",
        "        self.fc2 = nn.Linear(120, 84)\n",
        "        self.fc3 = nn.Linear(84, 10)\n",
        "\n",
        "    def forward(self, x):\n",
        "        # Max pooling over a (2, 2) window\n",
        "        x = F.max_pool2d(F.relu(self.conv1(x)), (2, 2))\n",
        "        # If the size is a square you can only specify a single number\n",
        "        x = F.max_pool2d(F.relu(self.conv2(x)), 2)\n",
        "        x = x.view(-1, self.num_flat_features(x))\n",
        "        x = F.relu(self.fc1(x))\n",
        "        x = F.relu(self.fc2(x))\n",
        "        x = self.fc3(x)\n",
        "        return x\n",
        "\n",
        "    def num_flat_features(self, x):\n",
        "        size = x.size()[1:]  # all dimensions except the batch dimension\n",
        "        num_features = 1\n",
        "        for s in size:\n",
        "            num_features *= s\n",
        "        return num_features\n",
        "\n",
        "\n",
        "net = Net()\n",
        "print(net)"
      ],
      "execution_count": 1,
      "outputs": [
        {
          "output_type": "stream",
          "text": [
            "Net(\n",
            "  (conv1): Conv2d(1, 6, kernel_size=(3, 3), stride=(1, 1))\n",
            "  (conv2): Conv2d(6, 16, kernel_size=(3, 3), stride=(1, 1))\n",
            "  (fc1): Linear(in_features=576, out_features=120, bias=True)\n",
            "  (fc2): Linear(in_features=120, out_features=84, bias=True)\n",
            "  (fc3): Linear(in_features=84, out_features=10, bias=True)\n",
            ")\n"
          ],
          "name": "stdout"
        }
      ]
    },
    {
      "cell_type": "markdown",
      "metadata": {
        "id": "nVJO0-Cwd0aS"
      },
      "source": [
        "`forward` 함수를 정의해야하고, `autograd`를 사용할 수 있도록 `backward` 함수(여기서 기울기 계산)는 자동으로 정의된다.\n",
        "\n",
        "모델의 학습 가능한 파라미터는 `net.parameters()`에 의해 반환된다.\n"
      ]
    },
    {
      "cell_type": "code",
      "metadata": {
        "id": "4NLIKa4nd0aS",
        "colab": {
          "base_uri": "https://localhost:8080/"
        },
        "outputId": "89125d52-bb2e-4c25-b8f2-704a7f53beb6"
      },
      "source": [
        "params = list(net.parameters())\n",
        "print(len(params))\n",
        "print(params[0].size())  # conv1's .weight"
      ],
      "execution_count": 2,
      "outputs": [
        {
          "output_type": "stream",
          "text": [
            "10\n",
            "torch.Size([6, 1, 3, 3])\n"
          ],
          "name": "stdout"
        }
      ]
    },
    {
      "cell_type": "markdown",
      "metadata": {
        "id": "TabYjkNjd0aS"
      },
      "source": [
        "랜덤으로 만들어진 32x32 입력을 네트워크에 넣어보자.  \n",
        "Note: 이 네트워크(LeNet)에 들어가는 입력의 크기는 32x32이다. MNIST 데이터셋에서 이 네트워크를 사용하기 위해, MNIST 데이터셋의 이미지 크기를 32x32로 맞춰야 한다."
      ]
    },
    {
      "cell_type": "code",
      "metadata": {
        "id": "skkyl45ud0aS",
        "colab": {
          "base_uri": "https://localhost:8080/"
        },
        "outputId": "d2d7836f-e47c-48b6-c15d-618584339694"
      },
      "source": [
        "input = torch.randn(1, 1, 32, 32)\n",
        "out = net(input)\n",
        "print(out)"
      ],
      "execution_count": 3,
      "outputs": [
        {
          "output_type": "stream",
          "text": [
            "tensor([[-0.0579, -0.0501, -0.0871,  0.0122,  0.1219,  0.1780,  0.0423,  0.0277,\n",
            "          0.0597, -0.0357]], grad_fn=<AddmmBackward>)\n"
          ],
          "name": "stdout"
        }
      ]
    },
    {
      "cell_type": "markdown",
      "metadata": {
        "id": "lK7Of-qld0aT"
      },
      "source": [
        "모든 파라미터의 기울기 버퍼를 0으로 만들고 랜덤으로 만든 기울기로 역전파를 수행하자:"
      ]
    },
    {
      "cell_type": "code",
      "metadata": {
        "id": "hFI6WK6vd0aT"
      },
      "source": [
        "net.zero_grad()\n",
        "out.backward(torch.randn(1, 10))"
      ],
      "execution_count": null,
      "outputs": []
    },
    {
      "cell_type": "markdown",
      "metadata": {
        "id": "no3ECLy6d0aT"
      },
      "source": [
        "#### Note\n",
        "`torch.nn`은 샘플의 mini-batches만 입력으로 사용한다. 단일 이미지는 사용하지 않는다.  예를 들어, `nn.Conv2d`는 4D Tensor인 `nSamples x nChannels x Height x Width`를 입력으로 받는다.  \n",
        "\n",
        "만약 샘플 하나만 가지고 있다면, `input.unsqueeze(0)`을 써서 가짜 배치 차원을 추가해야 한다.  \n",
        "\n",
        "계속 진행하기 전에, 지금까지 공부했던 것들을 요약해보자.  \n",
        "\n",
        "**요약:**\n",
        "  - `torch.Tensor` - `backward()`와 같은 autograd 연산을 도와주는 다차원 배열이다. 또한 텐서 형태로 기울기를 가지고 있는다.\n",
        "  - `nn.Module` - 신경망 모듈이다. 파라미터를 GPU로 이동하고, 내보내고, 불러오기 위해 도움을 받는 파라미터들을 캡슐화하기 편리한 방법이다.\n",
        "  -  ``nn.Parameter`` - A kind of Tensor, that is *automatically\n",
        "     registered as a parameter when assigned as an attribute to a*\n",
        "     ``Module``.\n",
        "  - `nn.Parameter` - \n",
        "  -  ``autograd.Function`` - Implements *forward and backward definitions\n",
        "     of an autograd operation*. Every ``Tensor`` operation creates at\n",
        "     least a single ``Function`` node that connects to functions that\n",
        "     created a ``Tensor`` and *encodes its history*.\n",
        "  - `autograd.Function` - autograd 연산의 forward와 backward를 수행한다. 모든 `Tensor` 연산은 적어도 한 개의 `Function` 노드를 생성한다. `Tensor`를 만들었고 \n",
        "\n",
        "**At this point, we covered:**\n",
        "  -  Defining a neural network\n",
        "  -  Processing inputs and calling backward\n",
        "\n",
        "**Still Left:**\n",
        "  -  Computing the loss\n",
        "  -  Updating the weights of the network\n",
        "\n",
        "Loss Function\n",
        "-------------\n",
        "A loss function takes the (output, target) pair of inputs, and computes a\n",
        "value that estimates how far away the output is from the target.\n",
        "\n",
        "There are several different\n",
        "`loss functions <https://pytorch.org/docs/nn.html#loss-functions>`_ under the\n",
        "nn package .\n",
        "A simple loss is: ``nn.MSELoss`` which computes the mean-squared error\n",
        "between the input and the target.\n",
        "\n",
        "For example:\n",
        "\n"
      ]
    },
    {
      "cell_type": "code",
      "metadata": {
        "id": "ckON3tikd0aU"
      },
      "source": [
        "output = net(input)\n",
        "target = torch.randn(10)  # a dummy target, for example\n",
        "target = target.view(1, -1)  # make it the same shape as output\n",
        "criterion = nn.MSELoss()\n",
        "\n",
        "loss = criterion(output, target)\n",
        "print(loss)"
      ],
      "execution_count": null,
      "outputs": []
    },
    {
      "cell_type": "markdown",
      "metadata": {
        "id": "U5PIvgE4d0aU"
      },
      "source": [
        "Now, if you follow ``loss`` in the backward direction, using its\n",
        "``.grad_fn`` attribute, you will see a graph of computations that looks\n",
        "like this:\n",
        "\n",
        "::\n",
        "\n",
        "    input -> conv2d -> relu -> maxpool2d -> conv2d -> relu -> maxpool2d\n",
        "          -> view -> linear -> relu -> linear -> relu -> linear\n",
        "          -> MSELoss\n",
        "          -> loss\n",
        "\n",
        "So, when we call ``loss.backward()``, the whole graph is differentiated\n",
        "w.r.t. the loss, and all Tensors in the graph that has ``requires_grad=True``\n",
        "will have their ``.grad`` Tensor accumulated with the gradient.\n",
        "\n",
        "For illustration, let us follow a few steps backward:\n",
        "\n"
      ]
    },
    {
      "cell_type": "code",
      "metadata": {
        "id": "Y-aUblnJd0aU"
      },
      "source": [
        "print(loss.grad_fn)  # MSELoss\n",
        "print(loss.grad_fn.next_functions[0][0])  # Linear\n",
        "print(loss.grad_fn.next_functions[0][0].next_functions[0][0])  # ReLU"
      ],
      "execution_count": null,
      "outputs": []
    },
    {
      "cell_type": "markdown",
      "metadata": {
        "id": "AJz6ZHaJd0aV"
      },
      "source": [
        "Backprop\n",
        "--------\n",
        "To backpropagate the error all we have to do is to ``loss.backward()``.\n",
        "You need to clear the existing gradients though, else gradients will be\n",
        "accumulated to existing gradients.\n",
        "\n",
        "\n",
        "Now we shall call ``loss.backward()``, and have a look at conv1's bias\n",
        "gradients before and after the backward.\n",
        "\n"
      ]
    },
    {
      "cell_type": "code",
      "metadata": {
        "id": "Ist4O2vmd0aV"
      },
      "source": [
        "net.zero_grad()     # zeroes the gradient buffers of all parameters\n",
        "\n",
        "print('conv1.bias.grad before backward')\n",
        "print(net.conv1.bias.grad)\n",
        "\n",
        "loss.backward()\n",
        "\n",
        "print('conv1.bias.grad after backward')\n",
        "print(net.conv1.bias.grad)"
      ],
      "execution_count": null,
      "outputs": []
    },
    {
      "cell_type": "markdown",
      "metadata": {
        "id": "lvloKNf9d0aW"
      },
      "source": [
        "Now, we have seen how to use loss functions.\n",
        "\n",
        "**Read Later:**\n",
        "\n",
        "  The neural network package contains various modules and loss functions\n",
        "  that form the building blocks of deep neural networks. A full list with\n",
        "  documentation is `here <https://pytorch.org/docs/nn>`_.\n",
        "\n",
        "**The only thing left to learn is:**\n",
        "\n",
        "  - Updating the weights of the network\n",
        "\n",
        "Update the weights\n",
        "------------------\n",
        "The simplest update rule used in practice is the Stochastic Gradient\n",
        "Descent (SGD):\n",
        "\n",
        "     ``weight = weight - learning_rate * gradient``\n",
        "\n",
        "We can implement this using simple Python code:\n",
        "\n",
        ".. code:: python\n",
        "\n",
        "    learning_rate = 0.01\n",
        "    for f in net.parameters():\n",
        "        f.data.sub_(f.grad.data * learning_rate)\n",
        "\n",
        "However, as you use neural networks, you want to use various different\n",
        "update rules such as SGD, Nesterov-SGD, Adam, RMSProp, etc.\n",
        "To enable this, we built a small package: ``torch.optim`` that\n",
        "implements all these methods. Using it is very simple:\n",
        "\n"
      ]
    },
    {
      "cell_type": "code",
      "metadata": {
        "id": "ikGtT-ehd0aW"
      },
      "source": [
        "import torch.optim as optim\n",
        "\n",
        "# create your optimizer\n",
        "optimizer = optim.SGD(net.parameters(), lr=0.01)\n",
        "\n",
        "# in your training loop:\n",
        "optimizer.zero_grad()   # zero the gradient buffers\n",
        "output = net(input)\n",
        "loss = criterion(output, target)\n",
        "loss.backward()\n",
        "optimizer.step()    # Does the update"
      ],
      "execution_count": null,
      "outputs": []
    },
    {
      "cell_type": "markdown",
      "metadata": {
        "id": "uBBtTGnLd0aW"
      },
      "source": [
        ".. Note::\n",
        "\n",
        "      Observe how gradient buffers had to be manually set to zero using\n",
        "      ``optimizer.zero_grad()``. This is because gradients are accumulated\n",
        "      as explained in the `Backprop`_ section.\n",
        "\n"
      ]
    }
  ]
}